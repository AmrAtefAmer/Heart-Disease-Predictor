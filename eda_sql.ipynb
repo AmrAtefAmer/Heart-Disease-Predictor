{
 "cells": [
  {
   "cell_type": "code",
   "execution_count": 1,
   "id": "8b4ba714",
   "metadata": {},
   "outputs": [],
   "source": [
    "import sqlite3"
   ]
  },
  {
   "cell_type": "code",
   "execution_count": 2,
   "id": "540dbcfd",
   "metadata": {},
   "outputs": [],
   "source": [
    "conn = sqlite3.Connection('HeartDisease.db')"
   ]
  },
  {
   "cell_type": "markdown",
   "id": "b759bee0",
   "metadata": {},
   "source": [
    "<p style=\"color:blue\">Select Number of records in database</p>"
   ]
  },
  {
   "cell_type": "code",
   "execution_count": 3,
   "id": "794e32f6",
   "metadata": {},
   "outputs": [
    {
     "data": {
      "text/plain": [
       "[(319795,)]"
      ]
     },
     "execution_count": 3,
     "metadata": {},
     "output_type": "execute_result"
    }
   ],
   "source": [
    "sql = 'SELECT COUNT(*) from Data'\n",
    "conn.execute(sql).fetchall()"
   ]
  },
  {
   "cell_type": "markdown",
   "id": "8a6002ca",
   "metadata": {},
   "source": [
    "<p style=\"color:blue\">Select number of people who have heart disease, and who don't have heart disease</p>"
   ]
  },
  {
   "cell_type": "code",
   "execution_count": 4,
   "id": "e0ee8df1",
   "metadata": {
    "scrolled": true
   },
   "outputs": [
    {
     "data": {
      "text/plain": [
       "[('No', 292422), ('Yes', 27373)]"
      ]
     },
     "execution_count": 4,
     "metadata": {},
     "output_type": "execute_result"
    }
   ],
   "source": [
    "sql = 'SELECT HeartDisease,COUNT(*) from Data group by HeartDisease'\n",
    "conn.execute(sql).fetchall()"
   ]
  },
  {
   "cell_type": "markdown",
   "id": "64905512",
   "metadata": {},
   "source": [
    "<p style=\"color:blue\">select avg of BMI for people who have heart disease and who don't have</p>"
   ]
  },
  {
   "cell_type": "code",
   "execution_count": 5,
   "id": "ef6fcaa8",
   "metadata": {},
   "outputs": [
    {
     "data": {
      "text/plain": [
       "[('No', 28.22465833623946), ('Yes', 29.40159207978655)]"
      ]
     },
     "execution_count": 5,
     "metadata": {},
     "output_type": "execute_result"
    }
   ],
   "source": [
    "sql=\"SELECT HeartDisease,avg(BMI) from Data group by HeartDisease\" \n",
    "conn.execute(sql).fetchall()"
   ]
  },
  {
   "cell_type": "markdown",
   "id": "79ba1873",
   "metadata": {},
   "source": [
    "<p style=\"color:blue\">Select Number of smoking people and not smoking people</p>"
   ]
  },
  {
   "cell_type": "code",
   "execution_count": 6,
   "id": "2066eb8b",
   "metadata": {
    "scrolled": true
   },
   "outputs": [
    {
     "data": {
      "text/plain": [
       "[('No', 187887), ('Yes', 131908)]"
      ]
     },
     "execution_count": 6,
     "metadata": {},
     "output_type": "execute_result"
    }
   ],
   "source": [
    "sql=\"SELECT Smoking, COUNT(Smoking) from Data group by Smoking \"\n",
    "conn.execute(sql).fetchall()"
   ]
  },
  {
   "cell_type": "markdown",
   "id": "27cc2334",
   "metadata": {},
   "source": [
    "<p style=\"color:blue\">select number of smoking people and not smoking people group by heart disease </p>"
   ]
  },
  {
   "cell_type": "code",
   "execution_count": 7,
   "id": "c760a1d5",
   "metadata": {
    "scrolled": true
   },
   "outputs": [
    {
     "data": {
      "text/plain": [
       "[('No', 'No', 176551),\n",
       " ('No', 'Yes', 11336),\n",
       " ('Yes', 'No', 115871),\n",
       " ('Yes', 'Yes', 16037)]"
      ]
     },
     "execution_count": 7,
     "metadata": {},
     "output_type": "execute_result"
    }
   ],
   "source": [
    "sql=\"SELECT Smoking, HeartDisease, COUNT(HeartDisease) from Data group by Smoking, HeartDisease \"\n",
    "conn.execute(sql).fetchall()"
   ]
  },
  {
   "cell_type": "markdown",
   "id": "041e967d",
   "metadata": {},
   "source": [
    "<p style=\"color:blue\">Select Number of people who drink alcohol and who don't drink</p>"
   ]
  },
  {
   "cell_type": "code",
   "execution_count": 8,
   "id": "6686869f",
   "metadata": {},
   "outputs": [
    {
     "data": {
      "text/plain": [
       "[('No', 298018), ('Yes', 21777)]"
      ]
     },
     "execution_count": 8,
     "metadata": {},
     "output_type": "execute_result"
    }
   ],
   "source": [
    "sql=\"SELECT AlcohoDrinking, COUNT(AlcohoDrinking) from Data group by AlcohoDrinking\"\n",
    "conn.execute(sql).fetchall()"
   ]
  },
  {
   "cell_type": "markdown",
   "id": "3461df21",
   "metadata": {},
   "source": [
    "<p style=\"color:blue\">Select Number of people who drink alcohol and who don't drink group by HeartDisease</p>"
   ]
  },
  {
   "cell_type": "code",
   "execution_count": 9,
   "id": "6d4cc99a",
   "metadata": {
    "scrolled": true
   },
   "outputs": [
    {
     "data": {
      "text/plain": [
       "[('No', 'No', 271786),\n",
       " ('No', 'Yes', 26232),\n",
       " ('Yes', 'No', 20636),\n",
       " ('Yes', 'Yes', 1141)]"
      ]
     },
     "execution_count": 9,
     "metadata": {},
     "output_type": "execute_result"
    }
   ],
   "source": [
    "sql=\"SELECT AlcohoDrinking, HeartDisease, COUNT(HeartDisease) from Data group by AlcohoDrinking, HeartDisease \"\n",
    "conn.execute(sql).fetchall()"
   ]
  },
  {
   "cell_type": "markdown",
   "id": "a0990523",
   "metadata": {},
   "source": [
    "<p style=\"color:blue\">The number of people who complained of physical problems for each day in the last 30 days</p>"
   ]
  },
  {
   "cell_type": "code",
   "execution_count": 10,
   "id": "32c92c26",
   "metadata": {},
   "outputs": [
    {
     "data": {
      "text/plain": [
       "[(0, 226589),\n",
       " (30, 19509),\n",
       " (2, 14880),\n",
       " (1, 10489),\n",
       " (3, 8617),\n",
       " (5, 7606),\n",
       " (10, 5453),\n",
       " (15, 5012),\n",
       " (7, 4629),\n",
       " (4, 4468),\n",
       " (20, 3216),\n",
       " (14, 2893),\n",
       " (6, 1270),\n",
       " (25, 1164),\n",
       " (8, 924),\n",
       " (21, 626),\n",
       " (12, 605),\n",
       " (28, 446),\n",
       " (29, 204),\n",
       " (9, 180),\n",
       " (18, 167),\n",
       " (16, 135),\n",
       " (27, 124),\n",
       " (17, 110),\n",
       " (13, 91),\n",
       " (22, 89),\n",
       " (11, 85),\n",
       " (24, 67),\n",
       " (26, 66),\n",
       " (23, 46),\n",
       " (19, 35)]"
      ]
     },
     "execution_count": 10,
     "metadata": {},
     "output_type": "execute_result"
    }
   ],
   "source": [
    "sql=\"SELECT PhysicalHealth, COUNT(PhysicalHealth) from Data group by PhysicalHealth order by COUNT(PhysicalHealth) desc\"\n",
    "conn.execute(sql).fetchall()"
   ]
  },
  {
   "cell_type": "markdown",
   "id": "0909c7d4",
   "metadata": {},
   "source": [
    "<p style=\"color:blue\">The number of people who complained of physical problems for each day in the last 30 days group by Heart Disease</p>"
   ]
  },
  {
   "cell_type": "code",
   "execution_count": 11,
   "id": "9dde4ad8",
   "metadata": {},
   "outputs": [
    {
     "data": {
      "text/plain": [
       "[(0, 'No', 212167),\n",
       " (0, 'Yes', 14422),\n",
       " (1, 'No', 9884),\n",
       " (1, 'Yes', 605),\n",
       " (2, 'No', 13711),\n",
       " (2, 'Yes', 1169),\n",
       " (3, 'No', 7774),\n",
       " (3, 'Yes', 843),\n",
       " (4, 'No', 3974),\n",
       " (4, 'Yes', 494),\n",
       " (5, 'No', 6710),\n",
       " (5, 'Yes', 896),\n",
       " (6, 'No', 1097),\n",
       " (6, 'Yes', 173),\n",
       " (7, 'No', 4164),\n",
       " (7, 'Yes', 465),\n",
       " (8, 'No', 804),\n",
       " (8, 'Yes', 120),\n",
       " (9, 'No', 143),\n",
       " (9, 'Yes', 37),\n",
       " (10, 'No', 4615),\n",
       " (10, 'Yes', 838),\n",
       " (11, 'No', 76),\n",
       " (11, 'Yes', 9),\n",
       " (12, 'No', 501),\n",
       " (12, 'Yes', 104),\n",
       " (13, 'No', 81),\n",
       " (13, 'Yes', 10),\n",
       " (14, 'No', 2581),\n",
       " (14, 'Yes', 312),\n",
       " (15, 'No', 4082),\n",
       " (15, 'Yes', 930),\n",
       " (16, 'No', 114),\n",
       " (16, 'Yes', 21),\n",
       " (17, 'No', 89),\n",
       " (17, 'Yes', 21),\n",
       " (18, 'No', 134),\n",
       " (18, 'Yes', 33),\n",
       " (19, 'No', 26),\n",
       " (19, 'Yes', 9),\n",
       " (20, 'No', 2575),\n",
       " (20, 'Yes', 641),\n",
       " (21, 'No', 527),\n",
       " (21, 'Yes', 99),\n",
       " (22, 'No', 74),\n",
       " (22, 'Yes', 15),\n",
       " (23, 'No', 34),\n",
       " (23, 'Yes', 12),\n",
       " (24, 'No', 52),\n",
       " (24, 'Yes', 15),\n",
       " (25, 'No', 910),\n",
       " (25, 'Yes', 254),\n",
       " (26, 'No', 54),\n",
       " (26, 'Yes', 12),\n",
       " (27, 'No', 96),\n",
       " (27, 'Yes', 28),\n",
       " (28, 'No', 338),\n",
       " (28, 'Yes', 108),\n",
       " (29, 'No', 145),\n",
       " (29, 'Yes', 59),\n",
       " (30, 'No', 14890),\n",
       " (30, 'Yes', 4619)]"
      ]
     },
     "execution_count": 11,
     "metadata": {},
     "output_type": "execute_result"
    }
   ],
   "source": [
    "sql=\"SELECT PhysicalHealth, HeartDisease, COUNT(HeartDisease) from Data group by PhysicalHealth, HeartDisease\"\n",
    "conn.execute(sql).fetchall()"
   ]
  },
  {
   "cell_type": "markdown",
   "id": "9a8051b3",
   "metadata": {},
   "source": [
    "<p style=\"color:blue\">The number of people who have difficult in walking group by Heart Disease</p>"
   ]
  },
  {
   "cell_type": "code",
   "execution_count": 12,
   "id": "cd6f0973",
   "metadata": {
    "scrolled": true
   },
   "outputs": [
    {
     "data": {
      "text/plain": [
       "[('No', 'No', 258040),\n",
       " ('No', 'Yes', 17345),\n",
       " ('Yes', 'No', 34382),\n",
       " ('Yes', 'Yes', 10028)]"
      ]
     },
     "execution_count": 12,
     "metadata": {},
     "output_type": "execute_result"
    }
   ],
   "source": [
    "sql=\"SELECT DiffWalking, HeartDisease, COUNT(DiffWalking) from Data group by DiffWalking, HeartDisease\"\n",
    "conn.execute(sql).fetchall()"
   ]
  },
  {
   "cell_type": "markdown",
   "id": "740f3b52",
   "metadata": {},
   "source": [
    "<p style=\"color:blue\">The number of females and males group by Heart Disease</p>"
   ]
  },
  {
   "cell_type": "code",
   "execution_count": 13,
   "id": "a382610d",
   "metadata": {
    "scrolled": false
   },
   "outputs": [
    {
     "data": {
      "text/plain": [
       "[('Female', 'No', 156571),\n",
       " ('Female', 'Yes', 11234),\n",
       " ('Male', 'No', 135851),\n",
       " ('Male', 'Yes', 16139)]"
      ]
     },
     "execution_count": 13,
     "metadata": {},
     "output_type": "execute_result"
    }
   ],
   "source": [
    "sql=\"SELECT Sex, HeartDisease, COUNT(Sex) from Data group by Sex, HeartDisease\"\n",
    "conn.execute(sql).fetchall()"
   ]
  },
  {
   "cell_type": "markdown",
   "id": "c8ea5834",
   "metadata": {},
   "source": [
    "<p style=\"color:blue\">For each age category how many person have heart disease and who haven't</p>"
   ]
  },
  {
   "cell_type": "code",
   "execution_count": 14,
   "id": "1245a4eb",
   "metadata": {
    "scrolled": true
   },
   "outputs": [
    {
     "data": {
      "text/plain": [
       "[('60-64', 'No', 30359),\n",
       " ('65-69', 'No', 30050),\n",
       " ('55-59', 'No', 27555),\n",
       " ('70-74', 'No', 26218),\n",
       " ('50-54', 'No', 23999),\n",
       " ('45-49', 'No', 21047),\n",
       " ('18-24', 'No', 20934),\n",
       " ('40-44', 'No', 20520),\n",
       " ('35-39', 'No', 20254),\n",
       " ('80 or older', 'No', 18704),\n",
       " ('30-34', 'No', 18527),\n",
       " ('75-79', 'No', 17433),\n",
       " ('25-29', 'No', 16822),\n",
       " ('80 or older', 'Yes', 5449),\n",
       " ('70-74', 'Yes', 4847),\n",
       " ('65-69', 'Yes', 4101),\n",
       " ('75-79', 'Yes', 4049),\n",
       " ('60-64', 'Yes', 3327),\n",
       " ('55-59', 'Yes', 2202),\n",
       " ('50-54', 'Yes', 1383),\n",
       " ('45-49', 'Yes', 744),\n",
       " ('40-44', 'Yes', 486),\n",
       " ('35-39', 'Yes', 296),\n",
       " ('30-34', 'Yes', 226),\n",
       " ('25-29', 'Yes', 133),\n",
       " ('18-24', 'Yes', 130)]"
      ]
     },
     "execution_count": 14,
     "metadata": {},
     "output_type": "execute_result"
    }
   ],
   "source": [
    "sql=\"SELECT AgeCategory, HeartDisease, COUNT(AgeCategory) from Data group by AgeCategory, HeartDisease order by  COUNT(AgeCategory) desc\"\n",
    "conn.execute(sql).fetchall()"
   ]
  },
  {
   "cell_type": "markdown",
   "id": "d2e2078d",
   "metadata": {},
   "source": [
    "<p style=\"color:blue\">For each race/ethnicity how many person have heart disease and who haven't</p>"
   ]
  },
  {
   "cell_type": "code",
   "execution_count": 15,
   "id": "13c56bee",
   "metadata": {
    "scrolled": false
   },
   "outputs": [
    {
     "data": {
      "text/plain": [
       "[('White', 'No', 222705),\n",
       " ('Hispanic', 'No', 26003),\n",
       " ('White', 'Yes', 22507),\n",
       " ('Black', 'No', 21210),\n",
       " ('Other', 'No', 10042),\n",
       " ('Asian', 'No', 7802),\n",
       " ('American Indian/Alaskan Native', 'No', 4660),\n",
       " ('Black', 'Yes', 1729),\n",
       " ('Hispanic', 'Yes', 1443),\n",
       " ('Other', 'Yes', 886),\n",
       " ('American Indian/Alaskan Native', 'Yes', 542),\n",
       " ('Asian', 'Yes', 266)]"
      ]
     },
     "execution_count": 15,
     "metadata": {},
     "output_type": "execute_result"
    }
   ],
   "source": [
    "sql=\"SELECT Race, HeartDisease, COUNT(Race) from Data group by Race, HeartDisease order by  COUNT(Race) desc\"\n",
    "conn.execute(sql).fetchall()"
   ]
  },
  {
   "cell_type": "markdown",
   "id": "e1f4fa3a",
   "metadata": {},
   "source": [
    "<p style=\"color:blue\">Count people who have or haven't diabetic and have or haven't HeartDisease</p>"
   ]
  },
  {
   "cell_type": "code",
   "execution_count": 16,
   "id": "4303ce93",
   "metadata": {
    "scrolled": false
   },
   "outputs": [
    {
     "data": {
      "text/plain": [
       "[('No', 'No', 252134),\n",
       " ('No', 'Yes', 17519),\n",
       " ('No, borderline diabetes', 'No', 5992),\n",
       " ('No, borderline diabetes', 'Yes', 789),\n",
       " ('Yes', 'No', 31845),\n",
       " ('Yes', 'Yes', 8957),\n",
       " ('Yes (during pregnancy)', 'No', 2451),\n",
       " ('Yes (during pregnancy)', 'Yes', 108)]"
      ]
     },
     "execution_count": 16,
     "metadata": {},
     "output_type": "execute_result"
    }
   ],
   "source": [
    "sql=\"SELECT Diabetic, HeartDisease, COUNT(HeartDisease) from Data group by Diabetic, HeartDisease \"\n",
    "conn.execute(sql).fetchall()"
   ]
  },
  {
   "cell_type": "code",
   "execution_count": 17,
   "id": "08cd8f42",
   "metadata": {},
   "outputs": [],
   "source": [
    "conn.close()"
   ]
  }
 ],
 "metadata": {
  "kernelspec": {
   "display_name": "Python 3",
   "language": "python",
   "name": "python3"
  },
  "language_info": {
   "codemirror_mode": {
    "name": "ipython",
    "version": 3
   },
   "file_extension": ".py",
   "mimetype": "text/x-python",
   "name": "python",
   "nbconvert_exporter": "python",
   "pygments_lexer": "ipython3",
   "version": "3.8.8"
  }
 },
 "nbformat": 4,
 "nbformat_minor": 5
}
